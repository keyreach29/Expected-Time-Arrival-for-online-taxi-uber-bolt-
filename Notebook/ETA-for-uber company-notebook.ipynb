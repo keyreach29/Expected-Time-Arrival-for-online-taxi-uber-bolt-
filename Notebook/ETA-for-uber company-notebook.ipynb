{
 "cells": [
  {
   "cell_type": "markdown",
   "id": "eedfbbda",
   "metadata": {},
   "source": [
    "Libaries Importation"
   ]
  },
  {
   "cell_type": "code",
   "execution_count": 7,
   "id": "4fbfa332",
   "metadata": {},
   "outputs": [],
   "source": [
    "import pandas as pd\n",
    "import numpy as np\n",
    "import matplotlib.pyplot as plt\n",
    "import seaborn as sns\n",
    "import plotly.express as px\n",
    "import plotly.graph_objects as go\n",
    "\n",
    "import matplotlib.dates as mdates\n",
    "%matplotlib inline\n",
    "from itertools import product\n",
    "\n",
    "from statsmodels.tsa.stattools import adfuller\n",
    "from statsmodels.tsa.stattools import kpss\n",
    "from statsmodels.graphics.tsaplots import plot_acf, plot_pacf\n",
    "\n",
    "from sklearn.impute import SimpleImputer\n",
    "from sklearn.preprocessing import OneHotEncoder, LabelEncoder\n",
    "\n",
    "from category_encoders.binary import BinaryEncoder\n",
    "from sklearn.preprocessing import StandardScaler\n",
    "\n",
    "from sklearn.metrics import mean_squared_error\n",
    "from sklearn.metrics import mean_squared_log_error\n",
    "\n",
    "from statsmodels.tsa.seasonal import seasonal_decompose\n",
    "from statsmodels.tsa.api import AutoReg\n",
    "from pmdarima import auto_arima\n",
    "from statsmodels.tsa.arima.model import ARIMA\n",
    "from statsmodels.tsa.statespace.sarimax import SARIMAX\n",
    "\n",
    "import warnings\n",
    "import os\n",
    "warnings.filterwarnings(\"ignore\")\n",
    "\n",
    "import pickle"
   ]
  },
  {
   "cell_type": "markdown",
   "id": "19d16162",
   "metadata": {},
   "source": [
    "# Data Loading"
   ]
  },
  {
   "cell_type": "code",
   "execution_count": 8,
   "id": "9edcb66e",
   "metadata": {},
   "outputs": [],
   "source": [
    "train = pd.read_csv('D://projects data science//ETA-UBER//Train.csv')\n",
    "\n",
    "test = pd.read_csv('D://projects data science//ETA-UBER//Test.csv')\n",
    "\n",
    "\n",
    "sample = pd.read_csv('D://projects data science//ETA-UBER//SampleSubmission.csv')\n",
    "weather = pd.read_csv('D://projects data science//ETA-UBER//Weather.csv')"
   ]
  },
  {
   "cell_type": "markdown",
   "id": "f4aef9aa",
   "metadata": {},
   "source": [
    "# Dataset Overview"
   ]
  },
  {
   "cell_type": "code",
   "execution_count": 9,
   "id": "6e9c4b50",
   "metadata": {},
   "outputs": [
    {
     "data": {
      "text/html": [
       "<div>\n",
       "<style scoped>\n",
       "    .dataframe tbody tr th:only-of-type {\n",
       "        vertical-align: middle;\n",
       "    }\n",
       "\n",
       "    .dataframe tbody tr th {\n",
       "        vertical-align: top;\n",
       "    }\n",
       "\n",
       "    .dataframe thead th {\n",
       "        text-align: right;\n",
       "    }\n",
       "</style>\n",
       "<table border=\"1\" class=\"dataframe\">\n",
       "  <thead>\n",
       "    <tr style=\"text-align: right;\">\n",
       "      <th></th>\n",
       "      <th>ID</th>\n",
       "      <th>Timestamp</th>\n",
       "      <th>Origin_lat</th>\n",
       "      <th>Origin_lon</th>\n",
       "      <th>Destination_lat</th>\n",
       "      <th>Destination_lon</th>\n",
       "      <th>Trip_distance</th>\n",
       "      <th>ETA</th>\n",
       "    </tr>\n",
       "  </thead>\n",
       "  <tbody>\n",
       "    <tr>\n",
       "      <th>0</th>\n",
       "      <td>000FLWA8</td>\n",
       "      <td>2019-12-04T20:01:50Z</td>\n",
       "      <td>3.258</td>\n",
       "      <td>36.777</td>\n",
       "      <td>3.003</td>\n",
       "      <td>36.718</td>\n",
       "      <td>39627</td>\n",
       "      <td>2784</td>\n",
       "    </tr>\n",
       "    <tr>\n",
       "      <th>1</th>\n",
       "      <td>000RGOAM</td>\n",
       "      <td>2019-12-10T22:37:09Z</td>\n",
       "      <td>3.087</td>\n",
       "      <td>36.707</td>\n",
       "      <td>3.081</td>\n",
       "      <td>36.727</td>\n",
       "      <td>3918</td>\n",
       "      <td>576</td>\n",
       "    </tr>\n",
       "  </tbody>\n",
       "</table>\n",
       "</div>"
      ],
      "text/plain": [
       "         ID             Timestamp  Origin_lat  Origin_lon  Destination_lat  \\\n",
       "0  000FLWA8  2019-12-04T20:01:50Z       3.258      36.777            3.003   \n",
       "1  000RGOAM  2019-12-10T22:37:09Z       3.087      36.707            3.081   \n",
       "\n",
       "   Destination_lon  Trip_distance   ETA  \n",
       "0           36.718          39627  2784  \n",
       "1           36.727           3918   576  "
      ]
     },
     "execution_count": 9,
     "metadata": {},
     "output_type": "execute_result"
    }
   ],
   "source": [
    "train.head(2)"
   ]
  },
  {
   "cell_type": "code",
   "execution_count": 10,
   "id": "491f67ae",
   "metadata": {},
   "outputs": [
    {
     "data": {
      "text/html": [
       "<div>\n",
       "<style scoped>\n",
       "    .dataframe tbody tr th:only-of-type {\n",
       "        vertical-align: middle;\n",
       "    }\n",
       "\n",
       "    .dataframe tbody tr th {\n",
       "        vertical-align: top;\n",
       "    }\n",
       "\n",
       "    .dataframe thead th {\n",
       "        text-align: right;\n",
       "    }\n",
       "</style>\n",
       "<table border=\"1\" class=\"dataframe\">\n",
       "  <thead>\n",
       "    <tr style=\"text-align: right;\">\n",
       "      <th></th>\n",
       "      <th>ID</th>\n",
       "      <th>Timestamp</th>\n",
       "      <th>Origin_lat</th>\n",
       "      <th>Origin_lon</th>\n",
       "      <th>Destination_lat</th>\n",
       "      <th>Destination_lon</th>\n",
       "      <th>Trip_distance</th>\n",
       "    </tr>\n",
       "  </thead>\n",
       "  <tbody>\n",
       "    <tr>\n",
       "      <th>0</th>\n",
       "      <td>000V4BQX</td>\n",
       "      <td>2019-12-21T05:52:37Z</td>\n",
       "      <td>2.981</td>\n",
       "      <td>36.688</td>\n",
       "      <td>2.978</td>\n",
       "      <td>36.754</td>\n",
       "      <td>17549</td>\n",
       "    </tr>\n",
       "    <tr>\n",
       "      <th>1</th>\n",
       "      <td>003WBC5J</td>\n",
       "      <td>2019-12-25T21:38:53Z</td>\n",
       "      <td>3.032</td>\n",
       "      <td>36.769</td>\n",
       "      <td>3.074</td>\n",
       "      <td>36.751</td>\n",
       "      <td>7532</td>\n",
       "    </tr>\n",
       "  </tbody>\n",
       "</table>\n",
       "</div>"
      ],
      "text/plain": [
       "         ID             Timestamp  Origin_lat  Origin_lon  Destination_lat  \\\n",
       "0  000V4BQX  2019-12-21T05:52:37Z       2.981      36.688            2.978   \n",
       "1  003WBC5J  2019-12-25T21:38:53Z       3.032      36.769            3.074   \n",
       "\n",
       "   Destination_lon  Trip_distance  \n",
       "0           36.754          17549  \n",
       "1           36.751           7532  "
      ]
     },
     "execution_count": 10,
     "metadata": {},
     "output_type": "execute_result"
    }
   ],
   "source": [
    "test.head(2)"
   ]
  },
  {
   "cell_type": "code",
   "execution_count": 11,
   "id": "02523bb9",
   "metadata": {},
   "outputs": [],
   "source": [
    " #create a copy of test for submissions later\n",
    "test_copy = test.copy()\n"
   ]
  },
  {
   "cell_type": "markdown",
   "id": "7dba3b75",
   "metadata": {},
   "source": [
    "sort the train set by date (timestamp)\n"
   ]
  },
  {
   "cell_type": "code",
   "execution_count": 12,
   "id": "e69d0a47",
   "metadata": {},
   "outputs": [],
   "source": [
    " # make sure sorted by date\n",
    "train = train.sort_values('Timestamp')"
   ]
  },
  {
   "cell_type": "markdown",
   "id": "38288108",
   "metadata": {},
   "source": [
    "Split the datetime column into date and time components in both the train and test DataFrames.\n"
   ]
  },
  {
   "cell_type": "code",
   "execution_count": 13,
   "id": "4c73d57e",
   "metadata": {},
   "outputs": [],
   "source": [
    "# split datetime column into date and time\n",
    "def split_datetime_column(df, date):\n",
    " df['time'] = df[date].str[10:]\n",
    " df['date'] = df[date].str[:10]\n",
    " df.drop(columns=['Timestamp', 'ID'], inplace = True, axis=1)\n",
    " return df\n",
    "train = split_datetime_column(train, 'Timestamp')\n",
    "test = split_datetime_column(test, 'Timestamp')\n"
   ]
  },
  {
   "cell_type": "markdown",
   "id": "f2fa1a5f",
   "metadata": {},
   "source": [
    "Convert Time to Seconds\n"
   ]
  },
  {
   "cell_type": "code",
   "execution_count": 14,
   "id": "69c07d51",
   "metadata": {},
   "outputs": [],
   "source": [
    "\n",
    "def time_to_secs(df):\n",
    " # Extract hours, minutes, and seconds using vectorized operations\n",
    " time_parts = df['time'].str[1:-1].str.split(':', expand=True).astype(int)\n",
    " hours, minutes, seconds = time_parts[0], time_parts[1], time_parts[2]\n",
    " df.drop(columns=['time'], inplace = True, axis=1)\n",
    " # Convert time to total seconds since midnight\n",
    " df['total_secs'] = hours * 3600 + minutes * 60 + seconds\n",
    "time_to_secs(train)\n",
    "time_to_secs(test)\n"
   ]
  },
  {
   "cell_type": "markdown",
   "id": "7db23c6d",
   "metadata": {},
   "source": [
    "set date as index for train and test set\n"
   ]
  },
  {
   "cell_type": "code",
   "execution_count": 15,
   "id": "466a3c9a",
   "metadata": {},
   "outputs": [],
   "source": [
    "test.set_index('date', inplace= True)\n",
    "train.set_index('date', inplace= True)"
   ]
  },
  {
   "cell_type": "code",
   "execution_count": 16,
   "id": "61ffbc67",
   "metadata": {},
   "outputs": [
    {
     "data": {
      "text/html": [
       "<div>\n",
       "<style scoped>\n",
       "    .dataframe tbody tr th:only-of-type {\n",
       "        vertical-align: middle;\n",
       "    }\n",
       "\n",
       "    .dataframe tbody tr th {\n",
       "        vertical-align: top;\n",
       "    }\n",
       "\n",
       "    .dataframe thead th {\n",
       "        text-align: right;\n",
       "    }\n",
       "</style>\n",
       "<table border=\"1\" class=\"dataframe\">\n",
       "  <thead>\n",
       "    <tr style=\"text-align: right;\">\n",
       "      <th></th>\n",
       "      <th>Origin_lat</th>\n",
       "      <th>Origin_lon</th>\n",
       "      <th>Destination_lat</th>\n",
       "      <th>Destination_lon</th>\n",
       "      <th>Trip_distance</th>\n",
       "      <th>ETA</th>\n",
       "      <th>total_secs</th>\n",
       "    </tr>\n",
       "    <tr>\n",
       "      <th>date</th>\n",
       "      <th></th>\n",
       "      <th></th>\n",
       "      <th></th>\n",
       "      <th></th>\n",
       "      <th></th>\n",
       "      <th></th>\n",
       "      <th></th>\n",
       "    </tr>\n",
       "  </thead>\n",
       "  <tbody>\n",
       "    <tr>\n",
       "      <th>2019-11-19</th>\n",
       "      <td>3.021</td>\n",
       "      <td>36.751</td>\n",
       "      <td>3.031</td>\n",
       "      <td>36.769</td>\n",
       "      <td>3898</td>\n",
       "      <td>556</td>\n",
       "      <td>82808</td>\n",
       "    </tr>\n",
       "    <tr>\n",
       "      <th>2019-11-19</th>\n",
       "      <td>2.972</td>\n",
       "      <td>36.760</td>\n",
       "      <td>3.006</td>\n",
       "      <td>36.728</td>\n",
       "      <td>5861</td>\n",
       "      <td>785</td>\n",
       "      <td>82810</td>\n",
       "    </tr>\n",
       "  </tbody>\n",
       "</table>\n",
       "</div>"
      ],
      "text/plain": [
       "            Origin_lat  Origin_lon  Destination_lat  Destination_lon  \\\n",
       "date                                                                   \n",
       "2019-11-19       3.021      36.751            3.031           36.769   \n",
       "2019-11-19       2.972      36.760            3.006           36.728   \n",
       "\n",
       "            Trip_distance  ETA  total_secs  \n",
       "date                                        \n",
       "2019-11-19           3898  556       82808  \n",
       "2019-11-19           5861  785       82810  "
      ]
     },
     "execution_count": 16,
     "metadata": {},
     "output_type": "execute_result"
    }
   ],
   "source": [
    "train.head(2)"
   ]
  },
  {
   "cell_type": "code",
   "execution_count": 17,
   "id": "7db1ce87",
   "metadata": {},
   "outputs": [
    {
     "data": {
      "text/html": [
       "<div>\n",
       "<style scoped>\n",
       "    .dataframe tbody tr th:only-of-type {\n",
       "        vertical-align: middle;\n",
       "    }\n",
       "\n",
       "    .dataframe tbody tr th {\n",
       "        vertical-align: top;\n",
       "    }\n",
       "\n",
       "    .dataframe thead th {\n",
       "        text-align: right;\n",
       "    }\n",
       "</style>\n",
       "<table border=\"1\" class=\"dataframe\">\n",
       "  <thead>\n",
       "    <tr style=\"text-align: right;\">\n",
       "      <th></th>\n",
       "      <th>Origin_lat</th>\n",
       "      <th>Origin_lon</th>\n",
       "      <th>Destination_lat</th>\n",
       "      <th>Destination_lon</th>\n",
       "      <th>Trip_distance</th>\n",
       "      <th>total_secs</th>\n",
       "    </tr>\n",
       "    <tr>\n",
       "      <th>date</th>\n",
       "      <th></th>\n",
       "      <th></th>\n",
       "      <th></th>\n",
       "      <th></th>\n",
       "      <th></th>\n",
       "      <th></th>\n",
       "    </tr>\n",
       "  </thead>\n",
       "  <tbody>\n",
       "    <tr>\n",
       "      <th>2019-12-21</th>\n",
       "      <td>2.981</td>\n",
       "      <td>36.688</td>\n",
       "      <td>2.978</td>\n",
       "      <td>36.754</td>\n",
       "      <td>17549</td>\n",
       "      <td>21157</td>\n",
       "    </tr>\n",
       "    <tr>\n",
       "      <th>2019-12-25</th>\n",
       "      <td>3.032</td>\n",
       "      <td>36.769</td>\n",
       "      <td>3.074</td>\n",
       "      <td>36.751</td>\n",
       "      <td>7532</td>\n",
       "      <td>77933</td>\n",
       "    </tr>\n",
       "  </tbody>\n",
       "</table>\n",
       "</div>"
      ],
      "text/plain": [
       "            Origin_lat  Origin_lon  Destination_lat  Destination_lon  \\\n",
       "date                                                                   \n",
       "2019-12-21       2.981      36.688            2.978           36.754   \n",
       "2019-12-25       3.032      36.769            3.074           36.751   \n",
       "\n",
       "            Trip_distance  total_secs  \n",
       "date                                   \n",
       "2019-12-21          17549       21157  \n",
       "2019-12-25           7532       77933  "
      ]
     },
     "execution_count": 17,
     "metadata": {},
     "output_type": "execute_result"
    }
   ],
   "source": [
    "test.head(2)"
   ]
  },
  {
   "cell_type": "code",
   "execution_count": 18,
   "id": "c988fe22",
   "metadata": {},
   "outputs": [
    {
     "name": "stdout",
     "output_type": "stream",
     "text": [
      "<class 'pandas.core.frame.DataFrame'>\n",
      "Index: 35625 entries, 2019-12-21 to 2019-12-20\n",
      "Data columns (total 6 columns):\n",
      " #   Column           Non-Null Count  Dtype  \n",
      "---  ------           --------------  -----  \n",
      " 0   Origin_lat       35625 non-null  float64\n",
      " 1   Origin_lon       35625 non-null  float64\n",
      " 2   Destination_lat  35625 non-null  float64\n",
      " 3   Destination_lon  35625 non-null  float64\n",
      " 4   Trip_distance    35625 non-null  int64  \n",
      " 5   total_secs       35625 non-null  int32  \n",
      "dtypes: float64(4), int32(1), int64(1)\n",
      "memory usage: 1.8+ MB\n"
     ]
    }
   ],
   "source": [
    "test.info()"
   ]
  },
  {
   "cell_type": "code",
   "execution_count": 19,
   "id": "a6de2c62",
   "metadata": {},
   "outputs": [
    {
     "data": {
      "text/html": [
       "<div>\n",
       "<style scoped>\n",
       "    .dataframe tbody tr th:only-of-type {\n",
       "        vertical-align: middle;\n",
       "    }\n",
       "\n",
       "    .dataframe tbody tr th {\n",
       "        vertical-align: top;\n",
       "    }\n",
       "\n",
       "    .dataframe thead th {\n",
       "        text-align: right;\n",
       "    }\n",
       "</style>\n",
       "<table border=\"1\" class=\"dataframe\">\n",
       "  <thead>\n",
       "    <tr style=\"text-align: right;\">\n",
       "      <th></th>\n",
       "      <th>date</th>\n",
       "      <th>dewpoint_2m_temperature</th>\n",
       "      <th>maximum_2m_air_temperature</th>\n",
       "      <th>mean_2m_air_temperature</th>\n",
       "      <th>mean_sea_level_pressure</th>\n",
       "      <th>minimum_2m_air_temperature</th>\n",
       "      <th>surface_pressure</th>\n",
       "      <th>total_precipitation</th>\n",
       "      <th>u_component_of_wind_10m</th>\n",
       "      <th>v_component_of_wind_10m</th>\n",
       "    </tr>\n",
       "  </thead>\n",
       "  <tbody>\n",
       "    <tr>\n",
       "      <th>0</th>\n",
       "      <td>2019-11-01</td>\n",
       "      <td>290.630524</td>\n",
       "      <td>296.434662</td>\n",
       "      <td>294.125061</td>\n",
       "      <td>101853.617188</td>\n",
       "      <td>292.503998</td>\n",
       "      <td>100806.351562</td>\n",
       "      <td>0.004297</td>\n",
       "      <td>3.561323</td>\n",
       "      <td>0.941695</td>\n",
       "    </tr>\n",
       "    <tr>\n",
       "      <th>1</th>\n",
       "      <td>2019-11-02</td>\n",
       "      <td>289.135284</td>\n",
       "      <td>298.432404</td>\n",
       "      <td>295.551666</td>\n",
       "      <td>101225.164062</td>\n",
       "      <td>293.337921</td>\n",
       "      <td>100187.250000</td>\n",
       "      <td>0.001767</td>\n",
       "      <td>5.318593</td>\n",
       "      <td>3.258237</td>\n",
       "    </tr>\n",
       "    <tr>\n",
       "      <th>2</th>\n",
       "      <td>2019-11-03</td>\n",
       "      <td>287.667694</td>\n",
       "      <td>296.612122</td>\n",
       "      <td>295.182831</td>\n",
       "      <td>100806.617188</td>\n",
       "      <td>293.674316</td>\n",
       "      <td>99771.414062</td>\n",
       "      <td>0.000797</td>\n",
       "      <td>8.447649</td>\n",
       "      <td>3.172982</td>\n",
       "    </tr>\n",
       "    <tr>\n",
       "      <th>3</th>\n",
       "      <td>2019-11-04</td>\n",
       "      <td>287.634644</td>\n",
       "      <td>297.173737</td>\n",
       "      <td>294.368134</td>\n",
       "      <td>101240.929688</td>\n",
       "      <td>292.376221</td>\n",
       "      <td>100200.843750</td>\n",
       "      <td>0.000393</td>\n",
       "      <td>5.991428</td>\n",
       "      <td>2.236700</td>\n",
       "    </tr>\n",
       "    <tr>\n",
       "      <th>4</th>\n",
       "      <td>2019-11-05</td>\n",
       "      <td>286.413788</td>\n",
       "      <td>294.284851</td>\n",
       "      <td>292.496979</td>\n",
       "      <td>101131.750000</td>\n",
       "      <td>289.143066</td>\n",
       "      <td>100088.500000</td>\n",
       "      <td>0.004658</td>\n",
       "      <td>6.962730</td>\n",
       "      <td>2.655364</td>\n",
       "    </tr>\n",
       "  </tbody>\n",
       "</table>\n",
       "</div>"
      ],
      "text/plain": [
       "         date  dewpoint_2m_temperature  maximum_2m_air_temperature  \\\n",
       "0  2019-11-01               290.630524                  296.434662   \n",
       "1  2019-11-02               289.135284                  298.432404   \n",
       "2  2019-11-03               287.667694                  296.612122   \n",
       "3  2019-11-04               287.634644                  297.173737   \n",
       "4  2019-11-05               286.413788                  294.284851   \n",
       "\n",
       "   mean_2m_air_temperature  mean_sea_level_pressure  \\\n",
       "0               294.125061            101853.617188   \n",
       "1               295.551666            101225.164062   \n",
       "2               295.182831            100806.617188   \n",
       "3               294.368134            101240.929688   \n",
       "4               292.496979            101131.750000   \n",
       "\n",
       "   minimum_2m_air_temperature  surface_pressure  total_precipitation  \\\n",
       "0                  292.503998     100806.351562             0.004297   \n",
       "1                  293.337921     100187.250000             0.001767   \n",
       "2                  293.674316      99771.414062             0.000797   \n",
       "3                  292.376221     100200.843750             0.000393   \n",
       "4                  289.143066     100088.500000             0.004658   \n",
       "\n",
       "   u_component_of_wind_10m  v_component_of_wind_10m  \n",
       "0                 3.561323                 0.941695  \n",
       "1                 5.318593                 3.258237  \n",
       "2                 8.447649                 3.172982  \n",
       "3                 5.991428                 2.236700  \n",
       "4                 6.962730                 2.655364  "
      ]
     },
     "execution_count": 19,
     "metadata": {},
     "output_type": "execute_result"
    }
   ],
   "source": [
    "weather.head()"
   ]
  },
  {
   "cell_type": "code",
   "execution_count": 20,
   "id": "60b9d851",
   "metadata": {},
   "outputs": [
    {
     "name": "stdout",
     "output_type": "stream",
     "text": [
      "<class 'pandas.core.frame.DataFrame'>\n",
      "RangeIndex: 61 entries, 0 to 60\n",
      "Data columns (total 10 columns):\n",
      " #   Column                      Non-Null Count  Dtype  \n",
      "---  ------                      --------------  -----  \n",
      " 0   date                        61 non-null     object \n",
      " 1   dewpoint_2m_temperature     61 non-null     float64\n",
      " 2   maximum_2m_air_temperature  61 non-null     float64\n",
      " 3   mean_2m_air_temperature     61 non-null     float64\n",
      " 4   mean_sea_level_pressure     61 non-null     float64\n",
      " 5   minimum_2m_air_temperature  61 non-null     float64\n",
      " 6   surface_pressure            61 non-null     float64\n",
      " 7   total_precipitation         61 non-null     float64\n",
      " 8   u_component_of_wind_10m     61 non-null     float64\n",
      " 9   v_component_of_wind_10m     61 non-null     float64\n",
      "dtypes: float64(9), object(1)\n",
      "memory usage: 4.9+ KB\n"
     ]
    }
   ],
   "source": [
    "weather.info()"
   ]
  },
  {
   "cell_type": "code",
   "execution_count": 21,
   "id": "9c62e11c",
   "metadata": {},
   "outputs": [
    {
     "data": {
      "text/html": [
       "<div>\n",
       "<style scoped>\n",
       "    .dataframe tbody tr th:only-of-type {\n",
       "        vertical-align: middle;\n",
       "    }\n",
       "\n",
       "    .dataframe tbody tr th {\n",
       "        vertical-align: top;\n",
       "    }\n",
       "\n",
       "    .dataframe thead th {\n",
       "        text-align: right;\n",
       "    }\n",
       "</style>\n",
       "<table border=\"1\" class=\"dataframe\">\n",
       "  <thead>\n",
       "    <tr style=\"text-align: right;\">\n",
       "      <th></th>\n",
       "      <th>Origin_lat</th>\n",
       "      <th>Origin_lon</th>\n",
       "      <th>Destination_lat</th>\n",
       "      <th>Destination_lon</th>\n",
       "      <th>Trip_distance</th>\n",
       "      <th>ETA</th>\n",
       "      <th>total_secs</th>\n",
       "    </tr>\n",
       "  </thead>\n",
       "  <tbody>\n",
       "    <tr>\n",
       "      <th>count</th>\n",
       "      <td>83924.000000</td>\n",
       "      <td>83924.000000</td>\n",
       "      <td>83924.000000</td>\n",
       "      <td>83924.000000</td>\n",
       "      <td>83924.000000</td>\n",
       "      <td>83924.000000</td>\n",
       "      <td>83924.000000</td>\n",
       "    </tr>\n",
       "    <tr>\n",
       "      <th>mean</th>\n",
       "      <td>3.052406</td>\n",
       "      <td>36.739358</td>\n",
       "      <td>3.056962</td>\n",
       "      <td>36.737732</td>\n",
       "      <td>13527.821410</td>\n",
       "      <td>1111.697762</td>\n",
       "      <td>56882.935787</td>\n",
       "    </tr>\n",
       "    <tr>\n",
       "      <th>std</th>\n",
       "      <td>0.096388</td>\n",
       "      <td>0.032074</td>\n",
       "      <td>0.100710</td>\n",
       "      <td>0.032781</td>\n",
       "      <td>9296.716006</td>\n",
       "      <td>563.565486</td>\n",
       "      <td>31568.908654</td>\n",
       "    </tr>\n",
       "    <tr>\n",
       "      <th>min</th>\n",
       "      <td>2.807000</td>\n",
       "      <td>36.589000</td>\n",
       "      <td>2.807000</td>\n",
       "      <td>36.596000</td>\n",
       "      <td>1.000000</td>\n",
       "      <td>1.000000</td>\n",
       "      <td>0.000000</td>\n",
       "    </tr>\n",
       "    <tr>\n",
       "      <th>25%</th>\n",
       "      <td>2.994000</td>\n",
       "      <td>36.721000</td>\n",
       "      <td>2.995000</td>\n",
       "      <td>36.718000</td>\n",
       "      <td>6108.000000</td>\n",
       "      <td>701.000000</td>\n",
       "      <td>19450.000000</td>\n",
       "    </tr>\n",
       "    <tr>\n",
       "      <th>50%</th>\n",
       "      <td>3.046000</td>\n",
       "      <td>36.742000</td>\n",
       "      <td>3.049000</td>\n",
       "      <td>36.742000</td>\n",
       "      <td>11731.500000</td>\n",
       "      <td>1054.000000</td>\n",
       "      <td>74784.000000</td>\n",
       "    </tr>\n",
       "    <tr>\n",
       "      <th>75%</th>\n",
       "      <td>3.095000</td>\n",
       "      <td>36.760000</td>\n",
       "      <td>3.109000</td>\n",
       "      <td>36.760000</td>\n",
       "      <td>19369.000000</td>\n",
       "      <td>1456.000000</td>\n",
       "      <td>79617.000000</td>\n",
       "    </tr>\n",
       "    <tr>\n",
       "      <th>max</th>\n",
       "      <td>3.381000</td>\n",
       "      <td>36.820000</td>\n",
       "      <td>3.381000</td>\n",
       "      <td>36.819000</td>\n",
       "      <td>62028.000000</td>\n",
       "      <td>5238.000000</td>\n",
       "      <td>86398.000000</td>\n",
       "    </tr>\n",
       "  </tbody>\n",
       "</table>\n",
       "</div>"
      ],
      "text/plain": [
       "         Origin_lat    Origin_lon  Destination_lat  Destination_lon  \\\n",
       "count  83924.000000  83924.000000     83924.000000     83924.000000   \n",
       "mean       3.052406     36.739358         3.056962        36.737732   \n",
       "std        0.096388      0.032074         0.100710         0.032781   \n",
       "min        2.807000     36.589000         2.807000        36.596000   \n",
       "25%        2.994000     36.721000         2.995000        36.718000   \n",
       "50%        3.046000     36.742000         3.049000        36.742000   \n",
       "75%        3.095000     36.760000         3.109000        36.760000   \n",
       "max        3.381000     36.820000         3.381000        36.819000   \n",
       "\n",
       "       Trip_distance           ETA    total_secs  \n",
       "count   83924.000000  83924.000000  83924.000000  \n",
       "mean    13527.821410   1111.697762  56882.935787  \n",
       "std      9296.716006    563.565486  31568.908654  \n",
       "min         1.000000      1.000000      0.000000  \n",
       "25%      6108.000000    701.000000  19450.000000  \n",
       "50%     11731.500000   1054.000000  74784.000000  \n",
       "75%     19369.000000   1456.000000  79617.000000  \n",
       "max     62028.000000   5238.000000  86398.000000  "
      ]
     },
     "execution_count": 21,
     "metadata": {},
     "output_type": "execute_result"
    }
   ],
   "source": [
    "train.describe()"
   ]
  },
  {
   "cell_type": "markdown",
   "id": "b75982c5",
   "metadata": {},
   "source": [
    "# Hypothesis\n"
   ]
  },
  {
   "cell_type": "markdown",
   "id": "85862426",
   "metadata": {},
   "source": [
    "H0: eta is mostly determined by trip distance\n"
   ]
  },
  {
   "cell_type": "markdown",
   "id": "7a177a05",
   "metadata": {},
   "source": [
    "H1: eta is not mostly determined by trip distance"
   ]
  },
  {
   "cell_type": "markdown",
   "id": "6bb77c8d",
   "metadata": {},
   "source": [
    "# Questions"
   ]
  },
  {
   "cell_type": "markdown",
   "id": "2b422d3c",
   "metadata": {},
   "source": [
    "1. Is the train data complete?\n",
    "2. Do we have seasonality in ETA?\n",
    "3. What is the distribution of ETA?\n",
    "4. What is the distribution of trip distances?\n",
    "5. How does ETA vary over time? Is there a trend?"
   ]
  },
  {
   "cell_type": "markdown",
   "id": "644d82ac",
   "metadata": {},
   "source": [
    "# Data Cleaning"
   ]
  },
  {
   "cell_type": "markdown",
   "id": "88404f47",
   "metadata": {},
   "source": [
    "Here, we will prepare our data for Univariate and Bivariate analysis"
   ]
  },
  {
   "cell_type": "markdown",
   "id": "9a584c80",
   "metadata": {},
   "source": [
    "# Fixing our Issues and merge our Data"
   ]
  },
  {
   "cell_type": "code",
   "execution_count": 22,
   "id": "04d8d1e7",
   "metadata": {},
   "outputs": [],
   "source": [
    "#merging train and test with weather dataset\n",
    "\n",
    "def merge(df1,df2):\n",
    "    merged_df= df1.merge(df2, how='left', on='date')\n",
    "    \n",
    "    return merged_df\n"
   ]
  },
  {
   "cell_type": "code",
   "execution_count": 23,
   "id": "6c5d0980",
   "metadata": {},
   "outputs": [],
   "source": [
    "# Merge the weather data into the training and testing data\n",
    "train = merge(train.reset_index(), weather)\n",
    "test = merge(test.reset_index(), weather)\n",
    "# Set the date as the index\n",
    "train.set_index('date', inplace= True)\n",
    "test.set_index('date', inplace= True)\n"
   ]
  },
  {
   "cell_type": "markdown",
   "id": "b2016fa7",
   "metadata": {},
   "source": [
    "# Drop Duplicates\n"
   ]
  },
  {
   "cell_type": "markdown",
   "id": "6f99c896",
   "metadata": {},
   "source": [
    "train.drop_duplicates(inplace=True)"
   ]
  },
  {
   "cell_type": "markdown",
   "id": "e11de4b7",
   "metadata": {},
   "source": [
    "# Impute Missing Values\n"
   ]
  },
  {
   "cell_type": "code",
   "execution_count": 24,
   "id": "4b6d9dbc",
   "metadata": {},
   "outputs": [
    {
     "name": "stdout",
     "output_type": "stream",
     "text": [
      "Origin_lat                    0\n",
      "Origin_lon                    0\n",
      "Destination_lat               0\n",
      "Destination_lon               0\n",
      "Trip_distance                 0\n",
      "ETA                           0\n",
      "total_secs                    0\n",
      "dewpoint_2m_temperature       0\n",
      "maximum_2m_air_temperature    0\n",
      "mean_2m_air_temperature       0\n",
      "mean_sea_level_pressure       0\n",
      "minimum_2m_air_temperature    0\n",
      "surface_pressure              0\n",
      "total_precipitation           0\n",
      "u_component_of_wind_10m       0\n",
      "v_component_of_wind_10m       0\n",
      "dtype: int64\n",
      "Origin_lat                    0\n",
      "Origin_lon                    0\n",
      "Destination_lat               0\n",
      "Destination_lon               0\n",
      "Trip_distance                 0\n",
      "total_secs                    0\n",
      "dewpoint_2m_temperature       0\n",
      "maximum_2m_air_temperature    0\n",
      "mean_2m_air_temperature       0\n",
      "mean_sea_level_pressure       0\n",
      "minimum_2m_air_temperature    0\n",
      "surface_pressure              0\n",
      "total_precipitation           0\n",
      "u_component_of_wind_10m       0\n",
      "v_component_of_wind_10m       0\n",
      "dtype: int64\n"
     ]
    }
   ],
   "source": [
    "print(train.isnull().sum())\n",
    "print(test.isnull().sum())"
   ]
  },
  {
   "cell_type": "markdown",
   "id": "d1dc8d53",
   "metadata": {},
   "source": [
    "# Exploratory Data Analysis: EDA\n"
   ]
  },
  {
   "cell_type": "markdown",
   "id": "addbceb5",
   "metadata": {},
   "source": [
    "# Hypothesis Validation\n"
   ]
  },
  {
   "cell_type": "markdown",
   "id": "ad0e9ec6",
   "metadata": {},
   "source": [
    "H0: eta is mostly determined by trip distance\n"
   ]
  },
  {
   "cell_type": "markdown",
   "id": "3117e2d0",
   "metadata": {},
   "source": [
    "H1: eta is not mostly determined by trip distance\n",
    "\n"
   ]
  },
  {
   "cell_type": "markdown",
   "id": "201e9e5e",
   "metadata": {},
   "source": [
    "We can see from the heatmap below that trip distance has the highest correlation with ETA. This means that\n",
    "trip distance is the variable that affects ETA the most."
   ]
  },
  {
   "cell_type": "code",
   "execution_count": 25,
   "id": "5770edfe",
   "metadata": {},
   "outputs": [
    {
     "data": {
      "image/png": "[encoded data removed]",
      "text/plain": [
       "<Figure size 1000x800 with 2 Axes>"
      ]
     },
     "metadata": {},
     "output_type": "display_data"
    }
   ],
   "source": [
    "# Correlation Heatmap\n",
    "correlation_matrix = train[['Trip_distance', 'ETA', 'dewpoint_2m_temperature',\n",
    "                            'maximum_2m_air_temperature', 'mean_2m_air_temperature']].corr()\n",
    "plt.figure(figsize=(10, 8))\n",
    "sns.heatmap(correlation_matrix, annot=True, cmap='coolwarm')\n",
    "plt.title('Correlation Heatmap')\n",
    "plt.show()"
   ]
  },
  {
   "cell_type": "markdown",
   "id": "dca5d4a6",
   "metadata": {},
   "source": [
    "We therefore accept our null hypothesis which states that ETA is mostly determined by trip distance.\n"
   ]
  },
  {
   "cell_type": "markdown",
   "id": "75bece51",
   "metadata": {},
   "source": [
    "1. Is the train data complete?\n"
   ]
  },
  {
   "cell_type": "code",
   "execution_count": 26,
   "id": "c49392d8",
   "metadata": {},
   "outputs": [],
   "source": [
    "# create a function to check for missing extracted dates\n",
    "def get_missing_dates(df):\n",
    " col = df.index\n",
    " missing_dates = (pd.date_range(\n",
    " start=col.min(), #start date\n",
    " end=col.max()) #end_date\n",
    " .difference(col))\n",
    " print(f\"we have {len(missing_dates)} dates missing out of {len(col)}\")\n",
    " print(f\"start: {col.min()}, end: {col.max()}\")\n",
    " return missing_dates\n"
   ]
  },
  {
   "cell_type": "code",
   "execution_count": 27,
   "id": "05c705ae",
   "metadata": {},
   "outputs": [
    {
     "name": "stdout",
     "output_type": "stream",
     "text": [
      "we have 0 dates missing out of 83924\n",
      "start: 2019-11-19, end: 2019-12-19\n"
     ]
    },
    {
     "data": {
      "text/plain": [
       "DatetimeIndex([], dtype='datetime64[ns]', freq=None)"
      ]
     },
     "execution_count": 27,
     "metadata": {},
     "output_type": "execute_result"
    }
   ],
   "source": [
    "get_missing_dates(train)\n"
   ]
  },
  {
   "cell_type": "code",
   "execution_count": 28,
   "id": "d98e5d7b",
   "metadata": {},
   "outputs": [
    {
     "name": "stdout",
     "output_type": "stream",
     "text": [
      "we have 0 dates missing out of 35625\n",
      "start: 2019-12-20, end: 2019-12-31\n"
     ]
    },
    {
     "data": {
      "text/plain": [
       "DatetimeIndex([], dtype='datetime64[ns]', freq=None)"
      ]
     },
     "execution_count": 28,
     "metadata": {},
     "output_type": "execute_result"
    }
   ],
   "source": [
    "get_missing_dates(test)\n"
   ]
  },
  {
   "cell_type": "markdown",
   "id": "aba59bb2",
   "metadata": {},
   "source": [
    "we can see above the the training data is incomplete. So we will fill in the missing dates\n"
   ]
  },
  {
   "cell_type": "code",
   "execution_count": 29,
   "id": "43793a7b",
   "metadata": {},
   "outputs": [],
   "source": [
    "\n",
    "def fill_missing_dates(df):\n",
    " missing_dates = (pd.DataFrame(\n",
    " pd.date_range(\n",
    " start=df.index.min(), end=df.index.max())\n",
    " .difference(df.index)\n",
    " , columns=['date']))\n",
    " #add missing df dates\n",
    " df = pd.concat([df, missing_dates], ignore_index=True)\n",
    " #filling missing df values\n",
    " cols = df.columns\n",
    " for col in cols:\n",
    "        df[col] = df[col].ffill().bfill()\n",
    " return df\n",
    "train = fill_missing_dates(train)\n",
    "test = fill_missing_dates(test)\n"
   ]
  },
  {
   "cell_type": "markdown",
   "id": "681c79c0",
   "metadata": {},
   "source": [
    "2. Do we have seasonality in ETA?\n"
   ]
  },
  {
   "cell_type": "code",
   "execution_count": 30,
   "id": "24ae24dc",
   "metadata": {},
   "outputs": [],
   "source": [
    "# Assuming your time series data is stored in the variable 'eta_data'\n",
    "eta_data = train['ETA']\n"
   ]
  },
  {
   "cell_type": "code",
   "execution_count": 31,
   "id": "5b5cfd03",
   "metadata": {},
   "outputs": [],
   "source": [
    "# Perform KPSS test\n",
    "kpss_result = kpss(eta_data)\n",
    "kpss_statistic = kpss_result[0]\n",
    "kpss_pvalue = kpss_result[1]\n",
    "kpss_critical_values = kpss_result[3]\n"
   ]
  },
  {
   "cell_type": "code",
   "execution_count": 32,
   "id": "abded5d7",
   "metadata": {},
   "outputs": [
    {
     "name": "stdout",
     "output_type": "stream",
     "text": [
      "\n",
      "KPSS Test:\n",
      "KPSS Statistic: 0.6306308649261976\n",
      "p-value: 0.019851739552163856\n"
     ]
    }
   ],
   "source": [
    "print(\"\\nKPSS Test:\")\n",
    "print(\"KPSS Statistic:\", kpss_statistic)\n",
    "print(\"p-value:\", kpss_pvalue)\n"
   ]
  },
  {
   "cell_type": "code",
   "execution_count": 33,
   "id": "29ec9959",
   "metadata": {},
   "outputs": [],
   "source": [
    " # Perform the ADF test\n",
    "result = adfuller(train['ETA'])"
   ]
  },
  {
   "cell_type": "code",
   "execution_count": 34,
   "id": "c2e968e2",
   "metadata": {},
   "outputs": [
    {
     "name": "stdout",
     "output_type": "stream",
     "text": [
      "ADF Statistic: -29.40162172723213\n",
      "p-value: 0.0\n",
      "The time series is likely stationary.\n"
     ]
    }
   ],
   "source": [
    "# Extract and print the results\n",
    "adf_statistic = result[0]\n",
    "p_value = result[1]\n",
    "print(f'ADF Statistic: {adf_statistic}')\n",
    "print(f'p-value: {p_value}')\n",
    "# Check the p-value against a significance level (e.g., 0.05) to make a decision about s\n",
    "if p_value <= 0.05:\n",
    " print('The time series is likely stationary.')\n",
    "else:\n",
    " print('The time series is likely non-stationary.')"
   ]
  },
  {
   "cell_type": "code",
   "execution_count": 35,
   "id": "8fa34633",
   "metadata": {},
   "outputs": [
    {
     "data": {
      "text/html": [
       "<div>\n",
       "<style scoped>\n",
       "    .dataframe tbody tr th:only-of-type {\n",
       "        vertical-align: middle;\n",
       "    }\n",
       "\n",
       "    .dataframe tbody tr th {\n",
       "        vertical-align: top;\n",
       "    }\n",
       "\n",
       "    .dataframe thead th {\n",
       "        text-align: right;\n",
       "    }\n",
       "</style>\n",
       "<table border=\"1\" class=\"dataframe\">\n",
       "  <thead>\n",
       "    <tr style=\"text-align: right;\">\n",
       "      <th></th>\n",
       "      <th>Origin_lat</th>\n",
       "      <th>Origin_lon</th>\n",
       "      <th>Destination_lat</th>\n",
       "      <th>Destination_lon</th>\n",
       "      <th>Trip_distance</th>\n",
       "      <th>ETA</th>\n",
       "      <th>total_secs</th>\n",
       "      <th>dewpoint_2m_temperature</th>\n",
       "      <th>maximum_2m_air_temperature</th>\n",
       "      <th>mean_2m_air_temperature</th>\n",
       "      <th>mean_sea_level_pressure</th>\n",
       "      <th>minimum_2m_air_temperature</th>\n",
       "      <th>surface_pressure</th>\n",
       "      <th>total_precipitation</th>\n",
       "      <th>u_component_of_wind_10m</th>\n",
       "      <th>v_component_of_wind_10m</th>\n",
       "      <th>date</th>\n",
       "    </tr>\n",
       "  </thead>\n",
       "  <tbody>\n",
       "    <tr>\n",
       "      <th>0</th>\n",
       "      <td>3.021</td>\n",
       "      <td>36.751</td>\n",
       "      <td>3.031</td>\n",
       "      <td>36.769</td>\n",
       "      <td>3898.0</td>\n",
       "      <td>556.0</td>\n",
       "      <td>82808.0</td>\n",
       "      <td>281.222931</td>\n",
       "      <td>288.498199</td>\n",
       "      <td>285.203339</td>\n",
       "      <td>101709.28125</td>\n",
       "      <td>282.853973</td>\n",
       "      <td>100640.476562</td>\n",
       "      <td>0.003459</td>\n",
       "      <td>3.198985</td>\n",
       "      <td>0.879467</td>\n",
       "      <td>NaT</td>\n",
       "    </tr>\n",
       "    <tr>\n",
       "      <th>1</th>\n",
       "      <td>2.972</td>\n",
       "      <td>36.760</td>\n",
       "      <td>3.006</td>\n",
       "      <td>36.728</td>\n",
       "      <td>5861.0</td>\n",
       "      <td>785.0</td>\n",
       "      <td>82810.0</td>\n",
       "      <td>281.222931</td>\n",
       "      <td>288.498199</td>\n",
       "      <td>285.203339</td>\n",
       "      <td>101709.28125</td>\n",
       "      <td>282.853973</td>\n",
       "      <td>100640.476562</td>\n",
       "      <td>0.003459</td>\n",
       "      <td>3.198985</td>\n",
       "      <td>0.879467</td>\n",
       "      <td>NaT</td>\n",
       "    </tr>\n",
       "    <tr>\n",
       "      <th>2</th>\n",
       "      <td>2.850</td>\n",
       "      <td>36.682</td>\n",
       "      <td>3.048</td>\n",
       "      <td>36.784</td>\n",
       "      <td>26065.0</td>\n",
       "      <td>1661.0</td>\n",
       "      <td>82838.0</td>\n",
       "      <td>281.222931</td>\n",
       "      <td>288.498199</td>\n",
       "      <td>285.203339</td>\n",
       "      <td>101709.28125</td>\n",
       "      <td>282.853973</td>\n",
       "      <td>100640.476562</td>\n",
       "      <td>0.003459</td>\n",
       "      <td>3.198985</td>\n",
       "      <td>0.879467</td>\n",
       "      <td>NaT</td>\n",
       "    </tr>\n",
       "    <tr>\n",
       "      <th>3</th>\n",
       "      <td>2.984</td>\n",
       "      <td>36.757</td>\n",
       "      <td>3.005</td>\n",
       "      <td>36.777</td>\n",
       "      <td>4943.0</td>\n",
       "      <td>629.0</td>\n",
       "      <td>82844.0</td>\n",
       "      <td>281.222931</td>\n",
       "      <td>288.498199</td>\n",
       "      <td>285.203339</td>\n",
       "      <td>101709.28125</td>\n",
       "      <td>282.853973</td>\n",
       "      <td>100640.476562</td>\n",
       "      <td>0.003459</td>\n",
       "      <td>3.198985</td>\n",
       "      <td>0.879467</td>\n",
       "      <td>NaT</td>\n",
       "    </tr>\n",
       "    <tr>\n",
       "      <th>4</th>\n",
       "      <td>2.861</td>\n",
       "      <td>36.761</td>\n",
       "      <td>3.186</td>\n",
       "      <td>36.721</td>\n",
       "      <td>37492.0</td>\n",
       "      <td>2181.0</td>\n",
       "      <td>82853.0</td>\n",
       "      <td>281.222931</td>\n",
       "      <td>288.498199</td>\n",
       "      <td>285.203339</td>\n",
       "      <td>101709.28125</td>\n",
       "      <td>282.853973</td>\n",
       "      <td>100640.476562</td>\n",
       "      <td>0.003459</td>\n",
       "      <td>3.198985</td>\n",
       "      <td>0.879467</td>\n",
       "      <td>NaT</td>\n",
       "    </tr>\n",
       "  </tbody>\n",
       "</table>\n",
       "</div>"
      ],
      "text/plain": [
       "   Origin_lat  Origin_lon  Destination_lat  Destination_lon  Trip_distance  \\\n",
       "0       3.021      36.751            3.031           36.769         3898.0   \n",
       "1       2.972      36.760            3.006           36.728         5861.0   \n",
       "2       2.850      36.682            3.048           36.784        26065.0   \n",
       "3       2.984      36.757            3.005           36.777         4943.0   \n",
       "4       2.861      36.761            3.186           36.721        37492.0   \n",
       "\n",
       "      ETA  total_secs  dewpoint_2m_temperature  maximum_2m_air_temperature  \\\n",
       "0   556.0     82808.0               281.222931                  288.498199   \n",
       "1   785.0     82810.0               281.222931                  288.498199   \n",
       "2  1661.0     82838.0               281.222931                  288.498199   \n",
       "3   629.0     82844.0               281.222931                  288.498199   \n",
       "4  2181.0     82853.0               281.222931                  288.498199   \n",
       "\n",
       "   mean_2m_air_temperature  mean_sea_level_pressure  \\\n",
       "0               285.203339             101709.28125   \n",
       "1               285.203339             101709.28125   \n",
       "2               285.203339             101709.28125   \n",
       "3               285.203339             101709.28125   \n",
       "4               285.203339             101709.28125   \n",
       "\n",
       "   minimum_2m_air_temperature  surface_pressure  total_precipitation  \\\n",
       "0                  282.853973     100640.476562             0.003459   \n",
       "1                  282.853973     100640.476562             0.003459   \n",
       "2                  282.853973     100640.476562             0.003459   \n",
       "3                  282.853973     100640.476562             0.003459   \n",
       "4                  282.853973     100640.476562             0.003459   \n",
       "\n",
       "   u_component_of_wind_10m  v_component_of_wind_10m date  \n",
       "0                 3.198985                 0.879467  NaT  \n",
       "1                 3.198985                 0.879467  NaT  \n",
       "2                 3.198985                 0.879467  NaT  \n",
       "3                 3.198985                 0.879467  NaT  \n",
       "4                 3.198985                 0.879467  NaT  "
      ]
     },
     "execution_count": 35,
     "metadata": {},
     "output_type": "execute_result"
    }
   ],
   "source": [
    "train.head()\n"
   ]
  },
  {
   "cell_type": "markdown",
   "id": "090452e5",
   "metadata": {},
   "source": [
    "3. What is the distribution of ETA?\n"
   ]
  },
  {
   "cell_type": "code",
   "execution_count": 36,
   "id": "1918e252",
   "metadata": {},
   "outputs": [
    {
     "name": "stdout",
     "output_type": "stream",
     "text": [
      "Mean ETA: 1111.6977622610934\n",
      "Median ETA: 1054.0\n",
      "Standard Deviation of ETA: 563.565485516394\n"
     ]
    }
   ],
   "source": [
    "# Distribution of ETA:\n",
    "print(\"Mean ETA:\", train['ETA'].mean())\n",
    "print(\"Median ETA:\", train['ETA'].median())\n",
    "print(\"Standard Deviation of ETA:\", train['ETA'].std())\n"
   ]
  },
  {
   "cell_type": "markdown",
   "id": "2d2fc32e",
   "metadata": {},
   "source": [
    "4. What is the distribution of trip distances?"
   ]
  },
  {
   "cell_type": "code",
   "execution_count": 37,
   "id": "a2e075fb",
   "metadata": {},
   "outputs": [
    {
     "data": {
      "image/png": "[encoded data removed]",
      "text/plain": [
       "<Figure size 1000x600 with 1 Axes>"
      ]
     },
     "metadata": {},
     "output_type": "display_data"
    }
   ],
   "source": [
    "# Set seaborn style\n",
    "sns.set(style=\"whitegrid\")\n",
    "# Question 1: Distribution of Trip Distances\n",
    "plt.figure(figsize=(10, 6))\n",
    "sns.histplot(train['Trip_distance'], bins=20, kde=True)\n",
    "plt.title('Distribution of Trip Distances')\n",
    "plt.xlabel('Trip Distance')\n",
    "plt.ylabel('Frequency')\n",
    "plt.show()"
   ]
  },
  {
   "cell_type": "markdown",
   "id": "47c7351a",
   "metadata": {},
   "source": [
    "5. How does ETA vary over time? Is there a trend?\n"
   ]
  },
  {
   "cell_type": "code",
   "execution_count": 38,
   "id": "bab1a0c7",
   "metadata": {},
   "outputs": [
    {
     "data": {
      "image/png": "[encoded data removed]",
      "text/plain": [
       "<Figure size 1200x600 with 1 Axes>"
      ]
     },
     "metadata": {},
     "output_type": "display_data"
    }
   ],
   "source": [
    "# Question 2: Variation of Trips over Time\n",
    "plt.figure(figsize=(12, 6))\n",
    "train['ETA'].plot()\n",
    "plt.title('Variation of Trips over Time')\n",
    "plt.xlabel('Date')\n",
    "plt.ylabel('ETA')\n",
    "plt.show()"
   ]
  },
  {
   "cell_type": "markdown",
   "id": "5928ce41",
   "metadata": {},
   "source": [
    "There is no trend in ETA over time.\n"
   ]
  },
  {
   "cell_type": "code",
   "execution_count": 39,
   "id": "d0f979c6",
   "metadata": {},
   "outputs": [
    {
     "data": {
      "image/png": "[encoded data removed]",
      "text/plain": [
       "<Figure size 800x600 with 2 Axes>"
      ]
     },
     "metadata": {},
     "output_type": "display_data"
    }
   ],
   "source": [
    "\n",
    "# Question 3: Correlation Heatmap\n",
    "correlation_matrix = train[['Trip_distance', 'ETA', 'dewpoint_2m_temperature',\n",
    "                            'maximum_2m_air_temperature', 'mean_2m_air_temperature']].corr()\n",
    "plt.figure(figsize=(8, 6))\n",
    "sns.heatmap(correlation_matrix, annot=True, cmap='coolwarm')\n",
    "plt.title('Correlation Heatmap')\n",
    "plt.show()"
   ]
  },
  {
   "cell_type": "markdown",
   "id": "dc2a8c1f",
   "metadata": {},
   "source": [
    "maximum_2m_air_temperature and mean_2m_air_temperature have a high correlation of 0.77 or 77%\n"
   ]
  },
  {
   "cell_type": "code",
   "execution_count": 40,
   "id": "f6675cbe",
   "metadata": {},
   "outputs": [
    {
     "data": {
      "image/png": "[encoded data removed]",
      "text/plain": [
       "<Figure size 1000x600 with 1 Axes>"
      ]
     },
     "metadata": {},
     "output_type": "display_data"
    }
   ],
   "source": [
    "# Question 4: Distribution of Trip Durations\n",
    "plt.figure(figsize=(10, 6))\n",
    "sns.histplot(train['total_secs'], bins=30, kde=True)\n",
    "plt.title('Distribution of Trip Durations')\n",
    "plt.xlabel('Trip Duration (seconds)')\n",
    "plt.ylabel('Frequency')\n",
    "plt.show()"
   ]
  },
  {
   "cell_type": "markdown",
   "id": "ab108cff",
   "metadata": {},
   "source": [
    "# Features Encoding & scaling\n"
   ]
  },
  {
   "cell_type": "code",
   "execution_count": 41,
   "id": "d813bb0b",
   "metadata": {},
   "outputs": [
    {
     "data": {
      "text/plain": [
       "['date']"
      ]
     },
     "execution_count": 41,
     "metadata": {},
     "output_type": "execute_result"
    }
   ],
   "source": [
    "numeric_columns = train.select_dtypes(include=['int64', 'int32', 'float64']).columns.tolist()\n",
    "categoric_columns = [col for col in train.columns if col not in numeric_columns]\n",
    "categoric_columns"
   ]
  },
  {
   "cell_type": "code",
   "execution_count": 42,
   "id": "977e4e67",
   "metadata": {},
   "outputs": [
    {
     "name": "stdout",
     "output_type": "stream",
     "text": [
      "['Origin_lat', 'Origin_lon', 'Destination_lat', 'Destination_lon', 'Trip_distance', 'total_secs', 'dewpoint_2m_temperature', 'maximum_2m_air_temperature', 'mean_2m_air_temperature', 'mean_sea_level_pressure', 'minimum_2m_air_temperature', 'surface_pressure', 'total_precipitation', 'u_component_of_wind_10m', 'v_component_of_wind_10m']\n"
     ]
    }
   ],
   "source": [
    "numeric_columns.remove('ETA')\n",
    "print(numeric_columns)"
   ]
  },
  {
   "cell_type": "code",
   "execution_count": 43,
   "id": "7746c20f",
   "metadata": {},
   "outputs": [],
   "source": [
    "from sklearn.preprocessing import StandardScaler"
   ]
  },
  {
   "cell_type": "code",
   "execution_count": 55,
   "id": "0182a939",
   "metadata": {},
   "outputs": [],
   "source": [
    " #Create an instance of StandardScaler and set output to be a DataFrame\n",
    "#scaler = StandardScaler().fit(train[numeric_columns]).set_output(transform=\"pandas\")\n",
    "#num = scaler.transform(train[numeric_columns])\n",
    "#num_test = scaler.transform(test[numeric_columns])\n",
    "\n",
    "\n",
    "\n",
    "import pandas as pd\n",
    "\n",
    "# ... your code to prepare training and test data ...\n",
    "\n",
    "# Create an instance of StandardScaler\n",
    "scaler = StandardScaler().fit(train[numeric_columns])\n",
    "\n",
    "# Transform the data using the scaler\n",
    "num_train = scaler.transform(train[numeric_columns])\n",
    "num_test = scaler.transform(test[numeric_columns])\n",
    "\n",
    "# Convert the NumPy arrays to DataFrames (optional: specify column names)\n",
    "num_train_df = pd.DataFrame(num_train, columns=numeric_columns)\n",
    "num_test_df = pd.DataFrame(num_test, columns=numeric_columns)\n",
    "\n"
   ]
  },
  {
   "cell_type": "code",
   "execution_count": 62,
   "id": "e5a1c124",
   "metadata": {},
   "outputs": [],
   "source": [
    "\n",
    "\n",
    "# Convert NumPy array to DataFrame (optional: specify column names)\n",
    "num_df = pd.DataFrame(num, columns=numeric_columns)  # Replace 'numeric_columns' with actual column names\n",
    "\n",
    "train = pd.concat([num_df, train['ETA']], axis=1)\n",
    "test = num_test  # Assuming num_test is already a DataFrame or NumPy array for testing\n",
    "\n",
    "#train = pd.concat([num, train['ETA']], axis=1)\n",
    "#test = num_test"
   ]
  },
  {
   "cell_type": "markdown",
   "id": "4956f2ff",
   "metadata": {},
   "source": [
    "# Splitting\n"
   ]
  },
  {
   "cell_type": "code",
   "execution_count": 63,
   "id": "9f425e2b",
   "metadata": {},
   "outputs": [],
   "source": [
    " cut_num = len(train) * 0.12\n",
    "cut_num = int(cut_num)"
   ]
  },
  {
   "cell_type": "code",
   "execution_count": 64,
   "id": "2ef48342",
   "metadata": {},
   "outputs": [],
   "source": [
    "train, eval_set = train[cut_num:], train[:cut_num]\n"
   ]
  },
  {
   "cell_type": "code",
   "execution_count": 65,
   "id": "0f057e0d",
   "metadata": {},
   "outputs": [],
   "source": [
    "# Split data into parts\n",
    "x = train.drop(['ETA'], axis = 1)\n",
    "y = train['ETA']\n"
   ]
  },
  {
   "cell_type": "code",
   "execution_count": 66,
   "id": "8d76dcc5",
   "metadata": {},
   "outputs": [],
   "source": [
    "cut_num = len(train) * 0.2\n",
    "cut_num = int(cut_num)\n"
   ]
  },
  {
   "cell_type": "code",
   "execution_count": 67,
   "id": "663ed3cc",
   "metadata": {},
   "outputs": [],
   "source": [
    "# Split data into Train Test\n",
    "X_train, X_test, y_train, y_test = x[cut_num:], x[:cut_num], y[cut_num:], y[:cut_num]\n"
   ]
  },
  {
   "cell_type": "markdown",
   "id": "7820b94e",
   "metadata": {},
   "source": [
    "# Machine Learning Modeling\n"
   ]
  },
  {
   "cell_type": "markdown",
   "id": "03098a6c",
   "metadata": {},
   "source": [
    "# Non-Traditional Time Series Models"
   ]
  },
  {
   "cell_type": "markdown",
   "id": "5f2ca572",
   "metadata": {},
   "source": [
    "RandomForestRegressor\n"
   ]
  },
  {
   "cell_type": "code",
   "execution_count": 68,
   "id": "a0ed130c",
   "metadata": {},
   "outputs": [],
   "source": [
    "# Option 1: Extract year from datetime feature\n",
    "\n",
    "\n",
    "# Use X_train_new for model fitting with forest.fit(...)\n",
    "\n",
    "\n",
    "from sklearn.ensemble import RandomForestRegressor\n",
    "# Initialize and fit the Random Forest Regressor\n",
    "forest = RandomForestRegressor()\n",
    "model_forest = forest.fit(X_train, y_train)\n",
    "# Make predictions on X_test\n",
    "forest_pred = model_forest.predict(X_test)\n"
   ]
  },
  {
   "cell_type": "code",
   "execution_count": 69,
   "id": "5977c9f3",
   "metadata": {},
   "outputs": [
    {
     "data": {
      "image/png": "[encoded data removed]",
      "text/plain": [
       "<Figure size 800x400 with 1 Axes>"
      ]
     },
     "metadata": {},
     "output_type": "display_data"
    }
   ],
   "source": [
    "\n",
    "plt.figure(figsize=(8, 4))\n",
    "plt.plot(y_test, label='Actual Sales')\n",
    "plt.plot(forest_pred, label='RandomForestRegressor')\n",
    "plt.legend(loc='best')\n",
    "plt.title('RandomForestRegressor Prediction')\n",
    "plt.show()"
   ]
  },
  {
   "cell_type": "code",
   "execution_count": 71,
   "id": "6b97ab23",
   "metadata": {},
   "outputs": [
    {
     "data": {
      "text/html": [
       "<div>\n",
       "<style scoped>\n",
       "    .dataframe tbody tr th:only-of-type {\n",
       "        vertical-align: middle;\n",
       "    }\n",
       "\n",
       "    .dataframe tbody tr th {\n",
       "        vertical-align: top;\n",
       "    }\n",
       "\n",
       "    .dataframe thead th {\n",
       "        text-align: right;\n",
       "    }\n",
       "</style>\n",
       "<table border=\"1\" class=\"dataframe\">\n",
       "  <thead>\n",
       "    <tr style=\"text-align: right;\">\n",
       "      <th></th>\n",
       "      <th>Model</th>\n",
       "      <th>MSE</th>\n",
       "      <th>MSLE</th>\n",
       "      <th>RMSE</th>\n",
       "      <th>RMSLE</th>\n",
       "    </tr>\n",
       "  </thead>\n",
       "  <tbody>\n",
       "    <tr>\n",
       "      <th>0</th>\n",
       "      <td>Random Forest</td>\n",
       "      <td>34302.19181</td>\n",
       "      <td>0.035711</td>\n",
       "      <td>185.21</td>\n",
       "      <td>0.18897</td>\n",
       "    </tr>\n",
       "  </tbody>\n",
       "</table>\n",
       "</div>"
      ],
      "text/plain": [
       "           Model          MSE      MSLE    RMSE    RMSLE\n",
       "0  Random Forest  34302.19181  0.035711  185.21  0.18897"
      ]
     },
     "execution_count": 71,
     "metadata": {},
     "output_type": "execute_result"
    }
   ],
   "source": [
    "mse = mean_squared_error(y_test, forest_pred)\n",
    "msle = mean_squared_log_error(y_test, forest_pred)\n",
    "rmse = np.sqrt(mse).round(2)\n",
    "rmsle = np.sqrt(msle).round(5)\n",
    "# Append the results to the DataFrame\n",
    "results = pd.DataFrame([['Random Forest', mse, msle, rmse, rmsle]],\n",
    " columns=['Model', 'MSE', 'MSLE', 'RMSE', 'RMSLE'])\n",
    "results\n"
   ]
  },
  {
   "cell_type": "code",
   "execution_count": 72,
   "id": "159e70ea",
   "metadata": {},
   "outputs": [
    {
     "data": {
      "text/html": [
       "<div>\n",
       "<style scoped>\n",
       "    .dataframe tbody tr th:only-of-type {\n",
       "        vertical-align: middle;\n",
       "    }\n",
       "\n",
       "    .dataframe tbody tr th {\n",
       "        vertical-align: top;\n",
       "    }\n",
       "\n",
       "    .dataframe thead th {\n",
       "        text-align: right;\n",
       "    }\n",
       "</style>\n",
       "<table border=\"1\" class=\"dataframe\">\n",
       "  <thead>\n",
       "    <tr style=\"text-align: right;\">\n",
       "      <th></th>\n",
       "      <th>Model</th>\n",
       "      <th>MSE</th>\n",
       "      <th>MSLE</th>\n",
       "      <th>RMSE</th>\n",
       "      <th>RMSLE</th>\n",
       "    </tr>\n",
       "  </thead>\n",
       "  <tbody>\n",
       "    <tr>\n",
       "      <th>0</th>\n",
       "      <td>Random Forest</td>\n",
       "      <td>34302.191810</td>\n",
       "      <td>0.035711</td>\n",
       "      <td>185.21</td>\n",
       "      <td>0.18897</td>\n",
       "    </tr>\n",
       "    <tr>\n",
       "      <th>1</th>\n",
       "      <td>XGBoost</td>\n",
       "      <td>27111.111766</td>\n",
       "      <td>0.035711</td>\n",
       "      <td>164.65</td>\n",
       "      <td>0.18897</td>\n",
       "    </tr>\n",
       "  </tbody>\n",
       "</table>\n",
       "</div>"
      ],
      "text/plain": [
       "           Model           MSE      MSLE    RMSE    RMSLE\n",
       "0  Random Forest  34302.191810  0.035711  185.21  0.18897\n",
       "1        XGBoost  27111.111766  0.035711  164.65  0.18897"
      ]
     },
     "execution_count": 72,
     "metadata": {},
     "output_type": "execute_result"
    }
   ],
   "source": [
    "\n",
    "import xgboost as xgb\n",
    "# Initialize and fit the XGBoost model\n",
    "xgboost = xgb.XGBRegressor()\n",
    "model_xgboost = xgboost.fit(X_train, y_train)\n",
    "# Make predictions on X_test\n",
    "xgboost_pred = model_xgboost.predict(X_test)\n",
    "# Append the results to the DataFrame\n",
    "mse = mean_squared_error(y_test, xgboost_pred)\n",
    "# msle = mean_squared_log_error(y_test, xgboost_pred)\n",
    "rmse = np.sqrt(mse).round(2)\n",
    "rmsle = np.sqrt(msle).round(5)\n",
    "model_results = pd.DataFrame([['XGBoost', mse, msle, rmse, rmsle]],\n",
    " columns=['Model', 'MSE', 'MSLE', 'RMSE', 'RMSLE'])\n",
    "results = pd.concat([results, model_results], ignore_index=True)\n",
    "results\n"
   ]
  },
  {
   "cell_type": "code",
   "execution_count": 74,
   "id": "fa9f752d",
   "metadata": {},
   "outputs": [
    {
     "data": {
      "image/png": "[encoded data removed]",
      "text/plain": [
       "<Figure size 640x480 with 1 Axes>"
      ]
     },
     "metadata": {},
     "output_type": "display_data"
    },
    {
     "name": "stdout",
     "output_type": "stream",
     "text": [
      "Origin_lat: 1069.0\n",
      "Destination_lat: 856.0\n",
      "Origin_lon: 835.0\n",
      "Trip_distance: 776.0\n",
      "Destination_lon: 763.0\n",
      "total_secs: 565.0\n",
      "mean_sea_level_pressure: 131.0\n",
      "dewpoint_2m_temperature: 125.0\n",
      "maximum_2m_air_temperature: 104.0\n",
      "mean_2m_air_temperature: 81.0\n",
      "minimum_2m_air_temperature: 71.0\n",
      "u_component_of_wind_10m: 71.0\n",
      "v_component_of_wind_10m: 70.0\n",
      "total_precipitation: 58.0\n"
     ]
    }
   ],
   "source": [
    "\n",
    "import matplotlib.pyplot as plt\n",
    "# Using plot_importance function to visualize feature importance\n",
    "xgb.plot_importance(model_xgboost)\n",
    "plt.show()\n",
    "# Alternatively, you can use the get_booster() method to get the booster object\n",
    "booster = model_xgboost.get_booster()\n",
    "# Get the feature importance scores\n",
    "importance_scores = booster.get_score(importance_type='weight')\n",
    "# Sort the importance scores in descending order\n",
    "sorted_importance_scores = sorted(importance_scores.items(), key=lambda x: x[1], reverse=True)\n",
    "# Print the sorted importance scores\n",
    "for feature, score in sorted_importance_scores:\n",
    " print(f\"{feature}: {score}\")"
   ]
  },
  {
   "cell_type": "markdown",
   "id": "cbfa425e",
   "metadata": {},
   "source": [
    "# Models Comparison\n"
   ]
  },
  {
   "cell_type": "code",
   "execution_count": 75,
   "id": "dc1f16de",
   "metadata": {},
   "outputs": [
    {
     "data": {
      "text/html": [
       "<div>\n",
       "<style scoped>\n",
       "    .dataframe tbody tr th:only-of-type {\n",
       "        vertical-align: middle;\n",
       "    }\n",
       "\n",
       "    .dataframe tbody tr th {\n",
       "        vertical-align: top;\n",
       "    }\n",
       "\n",
       "    .dataframe thead th {\n",
       "        text-align: right;\n",
       "    }\n",
       "</style>\n",
       "<table border=\"1\" class=\"dataframe\">\n",
       "  <thead>\n",
       "    <tr style=\"text-align: right;\">\n",
       "      <th></th>\n",
       "      <th>Model</th>\n",
       "      <th>MSE</th>\n",
       "      <th>MSLE</th>\n",
       "      <th>RMSE</th>\n",
       "      <th>RMSLE</th>\n",
       "    </tr>\n",
       "  </thead>\n",
       "  <tbody>\n",
       "    <tr>\n",
       "      <th>0</th>\n",
       "      <td>Random Forest</td>\n",
       "      <td>34302.191810</td>\n",
       "      <td>0.035711</td>\n",
       "      <td>185.21</td>\n",
       "      <td>0.18897</td>\n",
       "    </tr>\n",
       "    <tr>\n",
       "      <th>1</th>\n",
       "      <td>XGBoost</td>\n",
       "      <td>27111.111766</td>\n",
       "      <td>0.035711</td>\n",
       "      <td>164.65</td>\n",
       "      <td>0.18897</td>\n",
       "    </tr>\n",
       "  </tbody>\n",
       "</table>\n",
       "</div>"
      ],
      "text/plain": [
       "           Model           MSE      MSLE    RMSE    RMSLE\n",
       "0  Random Forest  34302.191810  0.035711  185.21  0.18897\n",
       "1        XGBoost  27111.111766  0.035711  164.65  0.18897"
      ]
     },
     "execution_count": 75,
     "metadata": {},
     "output_type": "execute_result"
    }
   ],
   "source": [
    "results"
   ]
  },
  {
   "cell_type": "markdown",
   "id": "518473b5",
   "metadata": {},
   "source": [
    "# Model Evaluation (eval_set)\n"
   ]
  },
  {
   "cell_type": "code",
   "execution_count": 76,
   "id": "c10c0109",
   "metadata": {},
   "outputs": [],
   "source": [
    "# Split data into parts\n",
    "x_eval = eval_set.drop(['ETA'], axis = 1)\n",
    "y_eval = eval_set['ETA']"
   ]
  },
  {
   "cell_type": "code",
   "execution_count": 77,
   "id": "ec4f0419",
   "metadata": {},
   "outputs": [],
   "source": [
    "xgboost_pred_eval = model_xgboost.predict(x_eval)\n",
    "mse = mean_squared_error(y_eval, xgboost_pred_eval)"
   ]
  },
  {
   "cell_type": "code",
   "execution_count": 78,
   "id": "998fc6ed",
   "metadata": {},
   "outputs": [
    {
     "data": {
      "text/plain": [
       "152.38"
      ]
     },
     "execution_count": 78,
     "metadata": {},
     "output_type": "execute_result"
    }
   ],
   "source": [
    "rmse = np.sqrt(mse).round(2)\n",
    "rmse"
   ]
  },
  {
   "cell_type": "markdown",
   "id": "89ccfa99",
   "metadata": {},
   "source": [
    "Predicting sales in Our test"
   ]
  },
  {
   "cell_type": "code",
   "execution_count": 79,
   "id": "83b876ca",
   "metadata": {},
   "outputs": [
    {
     "data": {
      "text/plain": [
       "array([1483.9465 ,  816.3853 , 1033.9655 , ...,  634.02454, 1228.1067 ,\n",
       "        592.4595 ], dtype=float32)"
      ]
     },
     "execution_count": 79,
     "metadata": {},
     "output_type": "execute_result"
    }
   ],
   "source": [
    "\n",
    "test_pred = model_xgboost.predict(test)\n",
    "test_pred\n"
   ]
  },
  {
   "cell_type": "code",
   "execution_count": 80,
   "id": "75017d20",
   "metadata": {},
   "outputs": [
    {
     "data": {
      "text/html": [
       "<div>\n",
       "<style scoped>\n",
       "    .dataframe tbody tr th:only-of-type {\n",
       "        vertical-align: middle;\n",
       "    }\n",
       "\n",
       "    .dataframe tbody tr th {\n",
       "        vertical-align: top;\n",
       "    }\n",
       "\n",
       "    .dataframe thead th {\n",
       "        text-align: right;\n",
       "    }\n",
       "</style>\n",
       "<table border=\"1\" class=\"dataframe\">\n",
       "  <thead>\n",
       "    <tr style=\"text-align: right;\">\n",
       "      <th></th>\n",
       "      <th>ID</th>\n",
       "      <th>ETA</th>\n",
       "    </tr>\n",
       "  </thead>\n",
       "  <tbody>\n",
       "    <tr>\n",
       "      <th>0</th>\n",
       "      <td>000V4BQX</td>\n",
       "      <td>1483.946533</td>\n",
       "    </tr>\n",
       "    <tr>\n",
       "      <th>1</th>\n",
       "      <td>003WBC5J</td>\n",
       "      <td>816.385315</td>\n",
       "    </tr>\n",
       "    <tr>\n",
       "      <th>2</th>\n",
       "      <td>004O4X3A</td>\n",
       "      <td>1033.965454</td>\n",
       "    </tr>\n",
       "    <tr>\n",
       "      <th>3</th>\n",
       "      <td>006CEI5B</td>\n",
       "      <td>1824.710571</td>\n",
       "    </tr>\n",
       "    <tr>\n",
       "      <th>4</th>\n",
       "      <td>009G0M2T</td>\n",
       "      <td>670.283569</td>\n",
       "    </tr>\n",
       "    <tr>\n",
       "      <th>...</th>\n",
       "      <td>...</td>\n",
       "      <td>...</td>\n",
       "    </tr>\n",
       "    <tr>\n",
       "      <th>35620</th>\n",
       "      <td>ZZXSJW3Q</td>\n",
       "      <td>408.054016</td>\n",
       "    </tr>\n",
       "    <tr>\n",
       "      <th>35621</th>\n",
       "      <td>ZZYPNYYY</td>\n",
       "      <td>1153.029053</td>\n",
       "    </tr>\n",
       "    <tr>\n",
       "      <th>35622</th>\n",
       "      <td>ZZYVPKXY</td>\n",
       "      <td>634.024536</td>\n",
       "    </tr>\n",
       "    <tr>\n",
       "      <th>35623</th>\n",
       "      <td>ZZZXGRIO</td>\n",
       "      <td>1228.106689</td>\n",
       "    </tr>\n",
       "    <tr>\n",
       "      <th>35624</th>\n",
       "      <td>ZZZYTWJA</td>\n",
       "      <td>592.459473</td>\n",
       "    </tr>\n",
       "  </tbody>\n",
       "</table>\n",
       "<p>35625 rows × 2 columns</p>\n",
       "</div>"
      ],
      "text/plain": [
       "             ID          ETA\n",
       "0      000V4BQX  1483.946533\n",
       "1      003WBC5J   816.385315\n",
       "2      004O4X3A  1033.965454\n",
       "3      006CEI5B  1824.710571\n",
       "4      009G0M2T   670.283569\n",
       "...         ...          ...\n",
       "35620  ZZXSJW3Q   408.054016\n",
       "35621  ZZYPNYYY  1153.029053\n",
       "35622  ZZYVPKXY   634.024536\n",
       "35623  ZZZXGRIO  1228.106689\n",
       "35624  ZZZYTWJA   592.459473\n",
       "\n",
       "[35625 rows x 2 columns]"
      ]
     },
     "execution_count": 80,
     "metadata": {},
     "output_type": "execute_result"
    }
   ],
   "source": [
    "\n",
    "test_copy['ETA'] = test_pred\n",
    "sub = test_copy[['ID', 'ETA']]\n",
    "sub"
   ]
  },
  {
   "cell_type": "code",
   "execution_count": 82,
   "id": "fa110ec4",
   "metadata": {},
   "outputs": [],
   "source": [
    " #Save sample submission\n",
    "sub.to_csv('submission.csv')"
   ]
  },
  {
   "cell_type": "code",
   "execution_count": 85,
   "id": "162d2e17",
   "metadata": {},
   "outputs": [],
   "source": [
    "\n",
    "with open('scaler.pkl', 'wb') as f:\n",
    " pickle.dump(scaler, f)\n",
    "with open('model.pkl', 'wb') as f:\n",
    " pickle.dump(model_xgboost, f)\n"
   ]
  },
  {
   "cell_type": "code",
   "execution_count": null,
   "id": "9736d26a",
   "metadata": {},
   "outputs": [],
   "source": []
  },
  {
   "cell_type": "code",
   "execution_count": null,
   "id": "7d16c0b1",
   "metadata": {},
   "outputs": [],
   "source": []
  }
 ],
 "metadata": {
  "kernelspec": {
   "display_name": "Python 3 (ipykernel)",
   "language": "python",
   "name": "python3"
  },
  "language_info": {
   "codemirror_mode": {
    "name": "ipython",
    "version": 3
   },
   "file_extension": ".py",
   "mimetype": "text/x-python",
   "name": "python",
   "nbconvert_exporter": "python",
   "pygments_lexer": "ipython3",
   "version": "3.9.13"
  }
 },
 "nbformat": 4,
 "nbformat_minor": 5
}
